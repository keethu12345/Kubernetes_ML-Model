{
  "nbformat": 4,
  "nbformat_minor": 0,
  "metadata": {
    "colab": {
      "provenance": [],
      "authorship_tag": "ABX9TyNOTGuI9biaTA3tXFBTwTJV",
      "include_colab_link": true
    },
    "kernelspec": {
      "name": "python3",
      "display_name": "Python 3"
    },
    "language_info": {
      "name": "python"
    }
  },
  "cells": [
    {
      "cell_type": "markdown",
      "metadata": {
        "id": "view-in-github",
        "colab_type": "text"
      },
      "source": [
        "<a href=\"https://colab.research.google.com/github/keethu12345/Kubernetes_ML-Model/blob/main/Testing_Kubernetes_Modelipynb.ipynb\" target=\"_parent\"><img src=\"https://colab.research.google.com/assets/colab-badge.svg\" alt=\"Open In Colab\"/></a>"
      ]
    },
    {
      "cell_type": "code",
      "execution_count": 10,
      "metadata": {
        "id": "ITaOu3T9GTvp"
      },
      "outputs": [],
      "source": [
        "from transformers import GPT2Tokenizer, GPT2LMHeadModel\n",
        "\n",
        "# Load the fine-tuned model\n",
        "model_path = 'keethu/results'\n",
        "tokenizer = GPT2Tokenizer.from_pretrained('gpt2')\n",
        "model = GPT2LMHeadModel.from_pretrained(model_path)"
      ]
    },
    {
      "cell_type": "code",
      "source": [
        "# Generate text based on a prompt\n",
        "prompt = \"What is Kubernetes?\"\n",
        "input_ids = tokenizer.encode(prompt, return_tensors='pt')\n",
        "\n",
        "# Generate a sequence of words\n",
        "output = model.generate(input_ids, max_length=95, num_return_sequences=1,  no_repeat_ngram_size=2,  early_stopping=True, pad_token_id=tokenizer.eos_token_id)\n",
        "\n",
        "# Decode and print the generated text\n",
        "generated_text = tokenizer.decode(output[0], skip_special_tokens=True)\n",
        "print(generated_text)"
      ],
      "metadata": {
        "colab": {
          "base_uri": "https://localhost:8080/"
        },
        "id": "1ns57ZF3EXAo",
        "outputId": "5a780a0d-57bb-48d5-e848-8f2e5d00a0b1"
      },
      "execution_count": 11,
      "outputs": [
        {
          "output_type": "stream",
          "name": "stdout",
          "text": [
            "What is Kubernetes?\n",
            "\n",
            "Kubernete is a distributed, distributed network that is designed to be a secure, scalable, and scalable computing platform. Kuubern is an open source project that aims to provide a platform for distributed computing.\n",
            ".NET Core is the core of Kubertnet. It is used to build and run Kuubelets, Kuust, Core, WebSocket, Azure, Redis, Hyper-V, Docker, etc\n"
          ]
        }
      ]
    }
  ]
}